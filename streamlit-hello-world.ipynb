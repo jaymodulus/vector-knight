{
 "cells": [
  {
   "cell_type": "code",
   "execution_count": 1,
   "id": "8caed0bd-afab-4e9d-99d8-c0437f64136d",
   "metadata": {},
   "outputs": [
    {
     "name": "stdout",
     "output_type": "stream",
     "text": [
      "Defaulting to user installation because normal site-packages is not writeable\n",
      "Requirement already satisfied: streamlit in /Users/jayhill/Library/Python/3.9/lib/python/site-packages (1.22.0)\n",
      "Requirement already satisfied: altair<5,>=3.2.0 in /Users/jayhill/Library/Python/3.9/lib/python/site-packages (from streamlit) (4.2.2)\n",
      "Requirement already satisfied: blinker>=1.0.0 in /Users/jayhill/Library/Python/3.9/lib/python/site-packages (from streamlit) (1.6.2)\n",
      "Requirement already satisfied: cachetools>=4.0 in /Users/jayhill/Library/Python/3.9/lib/python/site-packages (from streamlit) (5.3.0)\n",
      "Requirement already satisfied: click>=7.0 in /Users/jayhill/Library/Python/3.9/lib/python/site-packages (from streamlit) (8.1.3)\n",
      "Requirement already satisfied: importlib-metadata>=1.4 in /Users/jayhill/Library/Python/3.9/lib/python/site-packages (from streamlit) (6.5.0)\n",
      "Requirement already satisfied: numpy in /Users/jayhill/Library/Python/3.9/lib/python/site-packages (from streamlit) (1.23.3)\n",
      "Requirement already satisfied: packaging>=14.1 in /Users/jayhill/Library/Python/3.9/lib/python/site-packages (from streamlit) (23.1)\n",
      "Requirement already satisfied: pandas<3,>=0.25 in /Users/jayhill/Library/Python/3.9/lib/python/site-packages (from streamlit) (1.5.0)\n",
      "Requirement already satisfied: pillow>=6.2.0 in /Users/jayhill/Library/Python/3.9/lib/python/site-packages (from streamlit) (9.2.0)\n",
      "Requirement already satisfied: protobuf<4,>=3.12 in /Users/jayhill/Library/Python/3.9/lib/python/site-packages (from streamlit) (3.20.3)\n",
      "Requirement already satisfied: pyarrow>=4.0 in /Users/jayhill/Library/Python/3.9/lib/python/site-packages (from streamlit) (12.0.0)\n",
      "Requirement already satisfied: pympler>=0.9 in /Users/jayhill/Library/Python/3.9/lib/python/site-packages (from streamlit) (1.0.1)\n",
      "Requirement already satisfied: python-dateutil in /Users/jayhill/Library/Python/3.9/lib/python/site-packages (from streamlit) (2.8.2)\n",
      "Requirement already satisfied: requests>=2.4 in /Users/jayhill/Library/Python/3.9/lib/python/site-packages (from streamlit) (2.28.2)\n",
      "Requirement already satisfied: rich>=10.11.0 in /Users/jayhill/Library/Python/3.9/lib/python/site-packages (from streamlit) (13.0.1)\n",
      "Requirement already satisfied: tenacity<9,>=8.0.0 in /Users/jayhill/Library/Python/3.9/lib/python/site-packages (from streamlit) (8.2.2)\n",
      "Requirement already satisfied: toml in /Users/jayhill/Library/Python/3.9/lib/python/site-packages (from streamlit) (0.10.2)\n",
      "Requirement already satisfied: typing-extensions>=3.10.0.0 in /Users/jayhill/Library/Python/3.9/lib/python/site-packages (from streamlit) (4.5.0)\n",
      "Requirement already satisfied: tzlocal>=1.1 in /Users/jayhill/Library/Python/3.9/lib/python/site-packages (from streamlit) (5.0)\n",
      "Requirement already satisfied: validators>=0.2 in /Users/jayhill/Library/Python/3.9/lib/python/site-packages (from streamlit) (0.18.2)\n",
      "Requirement already satisfied: gitpython!=3.1.19 in /Users/jayhill/Library/Python/3.9/lib/python/site-packages (from streamlit) (3.1.31)\n",
      "Requirement already satisfied: pydeck>=0.1.dev5 in /Users/jayhill/Library/Python/3.9/lib/python/site-packages (from streamlit) (0.8.1b0)\n",
      "Requirement already satisfied: tornado>=6.0.3 in /Users/jayhill/Library/Python/3.9/lib/python/site-packages (from streamlit) (6.2)\n",
      "Requirement already satisfied: entrypoints in /Users/jayhill/Library/Python/3.9/lib/python/site-packages (from altair<5,>=3.2.0->streamlit) (0.4)\n",
      "Requirement already satisfied: jinja2 in /Users/jayhill/Library/Python/3.9/lib/python/site-packages (from altair<5,>=3.2.0->streamlit) (3.1.2)\n",
      "Requirement already satisfied: jsonschema>=3.0 in /Users/jayhill/Library/Python/3.9/lib/python/site-packages (from altair<5,>=3.2.0->streamlit) (4.17.3)\n",
      "Requirement already satisfied: toolz in /Users/jayhill/Library/Python/3.9/lib/python/site-packages (from altair<5,>=3.2.0->streamlit) (0.12.0)\n",
      "Requirement already satisfied: gitdb<5,>=4.0.1 in /Users/jayhill/Library/Python/3.9/lib/python/site-packages (from gitpython!=3.1.19->streamlit) (4.0.10)\n",
      "Requirement already satisfied: zipp>=0.5 in /Users/jayhill/Library/Python/3.9/lib/python/site-packages (from importlib-metadata>=1.4->streamlit) (3.15.0)\n",
      "Requirement already satisfied: pytz>=2020.1 in /Users/jayhill/Library/Python/3.9/lib/python/site-packages (from pandas<3,>=0.25->streamlit) (2022.2.1)\n",
      "Requirement already satisfied: six>=1.5 in /Library/Developer/CommandLineTools/Library/Frameworks/Python3.framework/Versions/3.9/lib/python3.9/site-packages (from python-dateutil->streamlit) (1.15.0)\n",
      "Requirement already satisfied: charset-normalizer<4,>=2 in /Users/jayhill/Library/Python/3.9/lib/python/site-packages (from requests>=2.4->streamlit) (2.0.12)\n",
      "Requirement already satisfied: idna<4,>=2.5 in /Users/jayhill/Library/Python/3.9/lib/python/site-packages (from requests>=2.4->streamlit) (3.4)\n",
      "Requirement already satisfied: urllib3<1.27,>=1.21.1 in /Users/jayhill/Library/Python/3.9/lib/python/site-packages (from requests>=2.4->streamlit) (1.26.12)\n",
      "Requirement already satisfied: certifi>=2017.4.17 in /Users/jayhill/Library/Python/3.9/lib/python/site-packages (from requests>=2.4->streamlit) (2023.5.7)\n",
      "Requirement already satisfied: commonmark<0.10.0,>=0.9.0 in /Users/jayhill/Library/Python/3.9/lib/python/site-packages (from rich>=10.11.0->streamlit) (0.9.1)\n",
      "Requirement already satisfied: pygments<3.0.0,>=2.6.0 in /Users/jayhill/Library/Python/3.9/lib/python/site-packages (from rich>=10.11.0->streamlit) (2.13.0)\n",
      "Requirement already satisfied: decorator>=3.4.0 in /Users/jayhill/Library/Python/3.9/lib/python/site-packages (from validators>=0.2->streamlit) (5.1.1)\n",
      "Requirement already satisfied: smmap<6,>=3.0.1 in /Users/jayhill/Library/Python/3.9/lib/python/site-packages (from gitdb<5,>=4.0.1->gitpython!=3.1.19->streamlit) (5.0.0)\n",
      "Requirement already satisfied: MarkupSafe>=2.0 in /Users/jayhill/Library/Python/3.9/lib/python/site-packages (from jinja2->altair<5,>=3.2.0->streamlit) (2.1.2)\n",
      "Requirement already satisfied: attrs>=17.4.0 in /Users/jayhill/Library/Python/3.9/lib/python/site-packages (from jsonschema>=3.0->altair<5,>=3.2.0->streamlit) (22.2.0)\n",
      "Requirement already satisfied: pyrsistent!=0.17.0,!=0.17.1,!=0.17.2,>=0.14.0 in /Users/jayhill/Library/Python/3.9/lib/python/site-packages (from jsonschema>=3.0->altair<5,>=3.2.0->streamlit) (0.19.3)\n"
     ]
    }
   ],
   "source": [
    "!pip install streamlit\n"
   ]
  },
  {
   "cell_type": "code",
   "execution_count": 2,
   "id": "d6a391e8-278d-4c73-88ae-065490960642",
   "metadata": {},
   "outputs": [
    {
     "name": "stderr",
     "output_type": "stream",
     "text": [
      "2023-06-02 22:27:25.759 \n",
      "  \u001b[33m\u001b[1mWarning:\u001b[0m to view this Streamlit app on a browser, run it with the following\n",
      "  command:\n",
      "\n",
      "    streamlit run /Users/jayhill/Library/Python/3.9/lib/python/site-packages/ipykernel_launcher.py [ARGUMENTS]\n"
     ]
    }
   ],
   "source": [
    "import streamlit as st\n",
    "\n",
    "def main():\n",
    "    st.title('Hello, world!')\n",
    "    st.write(\"Welcome to this simple Streamlit app.\")\n",
    "\n",
    "if __name__ == \"__main__\":\n",
    "    main()\n"
   ]
  },
  {
   "cell_type": "code",
   "execution_count": 3,
   "id": "9a4818b7-3a13-4870-b2a2-a12c67ddf5fa",
   "metadata": {},
   "outputs": [],
   "source": [
    "main()"
   ]
  },
  {
   "cell_type": "code",
   "execution_count": null,
   "id": "4723cd44-610c-40c0-979d-7d248be782d3",
   "metadata": {},
   "outputs": [
    {
     "name": "stdout",
     "output_type": "stream",
     "text": [
      "\n",
      "      👋 \u001b[1mWelcome to Streamlit!\u001b[0m\n",
      "\n",
      "      If you’d like to receive helpful onboarding emails, news, offers, promotions,\n",
      "      and the occasional swag, please enter your email address below. Otherwise,\n",
      "      leave this field blank.\n",
      "\n",
      "      \u001b[34mEmail: \u001b[0m "
     ]
    }
   ],
   "source": [
    "!streamlit run /Users/jayhill/Library/Python/3.9/lib/python/site-packages/ipykernel_launcher.py\n"
   ]
  },
  {
   "cell_type": "code",
   "execution_count": null,
   "id": "b23dc058-08bf-494f-a89f-64bb3b9cee83",
   "metadata": {},
   "outputs": [],
   "source": []
  }
 ],
 "metadata": {
  "kernelspec": {
   "display_name": "Python 3 (ipykernel)",
   "language": "python",
   "name": "python3"
  },
  "language_info": {
   "codemirror_mode": {
    "name": "ipython",
    "version": 3
   },
   "file_extension": ".py",
   "mimetype": "text/x-python",
   "name": "python",
   "nbconvert_exporter": "python",
   "pygments_lexer": "ipython3",
   "version": "3.9.6"
  }
 },
 "nbformat": 4,
 "nbformat_minor": 5
}
