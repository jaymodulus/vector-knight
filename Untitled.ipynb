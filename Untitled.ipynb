{
 "cells": [
  {
   "cell_type": "code",
   "execution_count": null,
   "id": "a7d3728d-8b43-4012-bd4c-7e15817be079",
   "metadata": {},
   "outputs": [],
   "source": [
    "import os \n",
    "from dotenv import load_dotenv, find_dotenv\n",
    "load_dotenv(find_dotenv())"
   ]
  },
  {
   "cell_type": "code",
   "execution_count": null,
   "id": "5a0f6aae-d5f7-43c0-9b08-d0f6c81a6eba",
   "metadata": {},
   "outputs": [],
   "source": [
    "import openai\n",
    "openai.api_key = os.getenv('OPENAI_API_KEY')"
   ]
  },
  {
   "cell_type": "code",
   "execution_count": null,
   "id": "40b2bfeb-ad7e-4239-ad3e-d6c3a4309685",
   "metadata": {},
   "outputs": [],
   "source": [
    "from langchain.llms import OpenAI\n",
    "llm = OpenAI(temperature=0.9)"
   ]
  },
  {
   "cell_type": "code",
   "execution_count": null,
   "id": "b935123b-df41-46e2-87d1-df86d8f7c030",
   "metadata": {},
   "outputs": [],
   "source": [
    "type(llm)"
   ]
  },
  {
   "cell_type": "code",
   "execution_count": null,
   "id": "c969eddd-c362-46c2-9dd2-4d496f75d70b",
   "metadata": {},
   "outputs": [],
   "source": [
    "from langchain.prompts import PromptTemplate"
   ]
  },
  {
   "cell_type": "code",
   "execution_count": null,
   "id": "c474c9e2-6c56-408e-a42b-a6bcd9536820",
   "metadata": {},
   "outputs": [],
   "source": [
    "prompt = PromptTemplate(\n",
    "    input_variables=[\"food\"],\n",
    "    template=\"What are 5 vacation destinations for someone who likes to eat {food}?\",\n",
    ")"
   ]
  },
  {
   "cell_type": "code",
   "execution_count": null,
   "id": "67afc969-e206-4ffc-a7fa-6ac83743dee2",
   "metadata": {},
   "outputs": [],
   "source": [
    "print(prompt.format(food=\"lobster\"))"
   ]
  },
  {
   "cell_type": "code",
   "execution_count": null,
   "id": "ffc6b6a1-5560-41a3-b3e2-5c29d7468a0d",
   "metadata": {},
   "outputs": [],
   "source": [
    "print(llm(prompt.format(food=\"irish breakfasts\")))"
   ]
  },
  {
   "cell_type": "code",
   "execution_count": null,
   "id": "3b45bdc6-a9e3-4cac-8a84-85e2e49daa17",
   "metadata": {},
   "outputs": [],
   "source": [
    "from langchain.agents import load_tools\n",
    "from langchain.agents import initialize_agent\n",
    "from langchain.llms import OpenAI\n",
    "\n",
    "from langchain import LLMMathChain\n",
    "\n",
    "llm = OpenAI(temperature=0)\n",
    "llm_math = LLMMathChain.from_llm(llm, verbose=True)"
   ]
  },
  {
   "cell_type": "code",
   "execution_count": null,
   "id": "2ef076d9-17e4-4ff2-8b99-8117cff8cfce",
   "metadata": {},
   "outputs": [],
   "source": [
    "# Load the model\n",
    "llm = OpenAI(temperature=0)"
   ]
  },
  {
   "cell_type": "code",
   "execution_count": null,
   "id": "ebf69788-0a62-4b6e-b77f-2858830239b3",
   "metadata": {},
   "outputs": [],
   "source": [
    "SERPAPI_API_KEY = os.getenv('SERPAPI_API_KEY')\n",
    "\n",
    "tools = load_tools([\"serpapi\", \"llm-math\"], llm=llm)"
   ]
  },
  {
   "cell_type": "code",
   "execution_count": null,
   "id": "51ef2a92-531e-46ce-94cf-398938bab426",
   "metadata": {},
   "outputs": [],
   "source": [
    "# Finally, let's initialize an agent with:\n",
    "# 1. The tools\n",
    "# 2. The language model\n",
    "# 3. The type of agent we want to use.\n",
    "\n",
    "agent = initialize_agent(tools, llm, agent=\"zero-shot-react-description\", verbose=True)"
   ]
  },
  {
   "cell_type": "code",
   "execution_count": null,
   "id": "2ecb5d88-b78e-4901-b239-d9a91750a779",
   "metadata": {},
   "outputs": [],
   "source": [
    "agent.run(\"Who is the current leader of japan? What is the leader's age doubled?\")"
   ]
  },
  {
   "cell_type": "code",
   "execution_count": null,
   "id": "9f9e65cb-3a8a-489f-a65c-05c111df4ba4",
   "metadata": {},
   "outputs": [],
   "source": [
    "from langchain import OpenAI, LLMMathChain\n",
    "\n",
    "llm = OpenAI(temperature=0)\n",
    "llm_math = LLMMathChain.from_llm(llm, verbose=True)\n",
    "\n",
    "llm_math.run(\"What is 13 raised to the .3432 power?\")"
   ]
  },
  {
   "cell_type": "code",
   "execution_count": null,
   "id": "a5cc9f28-8616-4b7a-be7a-4a966bf02e0d",
   "metadata": {},
   "outputs": [],
   "source": [
    "prompt = PromptTemplate(\n",
    "    input_variables=[\"instr\"],\n",
    "    template=\"give me five examples of musicians considered to be amongst the greatest every to play {instr}? constrain youself to include musicians from at least 4 different decades, one of them being the 2010s\",\n",
    ")"
   ]
  },
  {
   "cell_type": "code",
   "execution_count": null,
   "id": "65a7e62b-879e-4430-bd2c-c12d5f597591",
   "metadata": {},
   "outputs": [],
   "source": [
    "print(prompt.format(instr=\"drums\"))"
   ]
  },
  {
   "cell_type": "code",
   "execution_count": null,
   "id": "5c6e6a35-f093-430e-bdf1-a0e92cab23c0",
   "metadata": {},
   "outputs": [],
   "source": [
    "print(\"in.........\")\n",
    "print(llm(prompt.format(instr=\"viola\")))\n",
    "print(\"out.........\")"
   ]
  },
  {
   "cell_type": "markdown",
   "id": "c01d343c-772c-44cf-947a-b9f8ef7ff955",
   "metadata": {},
   "source": [
    "# create something new\n",
    "put together an idea for a chain that will require some more researching"
   ]
  },
  {
   "cell_type": "code",
   "execution_count": null,
   "id": "0a9ab007-66f8-41bc-9927-80dfcac002bc",
   "metadata": {},
   "outputs": [],
   "source": [
    "from langchain.agents import load_tools\n",
    "from langchain.agents import initialize_agent\n",
    "from langchain.agents import AgentType\n",
    "from langchain.llms import OpenAI\n",
    "\n",
    "# Load the language model\n",
    "llm = OpenAI(temperature=0)\n",
    "\n",
    "# Load some tools to use\n",
    "tools = load_tools([\"serpapi\", \"llm-math\"], llm=llm)\n",
    "\n",
    "# Initialize an agent with the tools, the language model, and the type of agent we want to use\n",
    "agent = initialize_agent(tools, llm, agent=AgentType.ZERO_SHOT_REACT_DESCRIPTION, verbose=True)"
   ]
  },
  {
   "cell_type": "code",
   "execution_count": null,
   "id": "1c4eb79a-4fa0-4bb6-b6f4-3c76607c351a",
   "metadata": {},
   "outputs": [],
   "source": [
    "agent.run(\"who won the orioles game yesterdday\")"
   ]
  },
  {
   "cell_type": "code",
   "execution_count": null,
   "id": "dad6833b-6c94-4c67-8b3a-6f6f1faefc76",
   "metadata": {},
   "outputs": [],
   "source": [
    "from langchain.llms import OpenAI\n",
    "from langchain.chains import ConversationChain\n",
    "\n",
    "\n",
    "llm = OpenAI(temperature=0)\n",
    "conversation = ConversationChain(\n",
    "    llm=llm, \n",
    "    verbose=True, \n",
    "    memory=ConversationBufferMemory()\n",
    ")\n"
   ]
  },
  {
   "cell_type": "code",
   "execution_count": null,
   "id": "929a2e55-add2-4d6a-8778-8a13e667cf49",
   "metadata": {},
   "outputs": [],
   "source": [
    "conversation.predict(input=\"Hi there!\")\n"
   ]
  },
  {
   "cell_type": "code",
   "execution_count": null,
   "id": "05eb4fd8-4123-40f6-9043-5ed3c4e7c59f",
   "metadata": {},
   "outputs": [],
   "source": [
    "conversation.predict(input=\"Jay - but I wish it was John...\")"
   ]
  },
  {
   "cell_type": "code",
   "execution_count": null,
   "id": "07318d53-fcf0-47ad-8a6c-791b8a0f2352",
   "metadata": {},
   "outputs": [],
   "source": [
    "conversation.predict(input=\"not enough but i'm trying to learn more, fast. can you give me recommendations?\")"
   ]
  },
  {
   "cell_type": "code",
   "execution_count": null,
   "id": "a68adaea-5983-4518-975d-a149a2d6c6dc",
   "metadata": {},
   "outputs": [],
   "source": []
  },
  {
   "cell_type": "code",
   "execution_count": null,
   "id": "ec4c625a-d041-4ab4-a900-948612840bd8",
   "metadata": {},
   "outputs": [],
   "source": []
  },
  {
   "cell_type": "code",
   "execution_count": null,
   "id": "55b89f98-4b5b-46ee-b3a2-dc304b103b29",
   "metadata": {},
   "outputs": [],
   "source": []
  },
  {
   "cell_type": "code",
   "execution_count": null,
   "id": "bcb32c9a-9107-43e7-a6e8-f7ba5afe83ec",
   "metadata": {},
   "outputs": [],
   "source": [
    "from langchain.agents import initialize_agent\n",
    "from langchain.agents import AgentType\n",
    "from langchain.agents import load_tools\n",
    "\n",
    "llm = OpenAI(temperature=0)\n",
    "#tools = load_tools([\"pal-math\"], llm=llm)\n",
    "\n",
    "tools = load_tools([\"serpapi\", \"wikipedia\"], llm=llm)\n",
    "\n",
    "\n",
    "agent = initialize_agent(tools,\n",
    "                         llm,\n",
    "                         agent=AgentType.ZERO_SHOT_REACT_DESCRIPTION,\n",
    "                         verbose=True)"
   ]
  },
  {
   "cell_type": "code",
   "execution_count": 139,
   "id": "b90ebb8e-bfac-44bd-8581-a67deb0283ec",
   "metadata": {},
   "outputs": [
    {
     "name": "stdout",
     "output_type": "stream",
     "text": [
      "\n",
      "\n",
      "\u001b[1m> Entering new AgentExecutor chain...\u001b[0m\n",
      "\u001b[32;1m\u001b[1;3m I need to find out who won the battle of the bulge\n",
      "Action: Search\n",
      "Action Input: \"who won the battle of the bulge\"\u001b[0m\n",
      "Observation: \u001b[36;1m\u001b[1;3mThe Allies\u001b[0m\n",
      "Thought:\u001b[32;1m\u001b[1;3m I now know the final answer\n",
      "Final Answer: The Allies won the battle of the bulge.\u001b[0m\n",
      "\n",
      "\u001b[1m> Finished chain.\u001b[0m\n"
     ]
    },
    {
     "data": {
      "text/plain": [
       "'The Allies won the battle of the bulge.'"
      ]
     },
     "execution_count": 139,
     "metadata": {},
     "output_type": "execute_result"
    }
   ],
   "source": [
    "agent.run(\"who won the battle of the bulge\")"
   ]
  },
  {
   "cell_type": "code",
   "execution_count": null,
   "id": "045e5caa-445c-4abe-80dc-558afe106564",
   "metadata": {},
   "outputs": [],
   "source": [
    "from langchain.utilities import WikipediaAPIWrapper\n",
    "wikipedia = WikipediaAPIWrapper()"
   ]
  },
  {
   "cell_type": "code",
   "execution_count": null,
   "id": "ce492d22-866d-46f9-b85c-0dfb36431cc3",
   "metadata": {},
   "outputs": [],
   "source": [
    "wikipedia.run(\"syd barrett\")"
   ]
  },
  {
   "cell_type": "code",
   "execution_count": null,
   "id": "a0288f5a-c279-46d4-a923-42ea02597e9d",
   "metadata": {},
   "outputs": [],
   "source": [
    "agent.run(\"who are you? how can you help me?\")"
   ]
  },
  {
   "cell_type": "code",
   "execution_count": null,
   "id": "d07ef3b5-03c5-4898-b79d-6f1059c2c07d",
   "metadata": {},
   "outputs": [],
   "source": []
  }
 ],
 "metadata": {
  "kernelspec": {
   "display_name": "Python 3 (ipykernel)",
   "language": "python",
   "name": "python3"
  },
  "language_info": {
   "codemirror_mode": {
    "name": "ipython",
    "version": 3
   },
   "file_extension": ".py",
   "mimetype": "text/x-python",
   "name": "python",
   "nbconvert_exporter": "python",
   "pygments_lexer": "ipython3",
   "version": "3.9.6"
  }
 },
 "nbformat": 4,
 "nbformat_minor": 5
}
