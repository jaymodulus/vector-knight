{
 "cells": [
  {
   "cell_type": "code",
   "execution_count": null,
   "id": "e9200584-8b45-4c57-b13d-5376604442f0",
   "metadata": {},
   "outputs": [],
   "source": [
    "import openai\n",
    "import os \n",
    "from langchain.llms import OpenAI\n",
    "from dotenv import load_dotenv, find_dotenv\n",
    "load_dotenv(find_dotenv())\n",
    "\n",
    "OPENAI_API_KEY = os.getenv('OPENAI_API_KEY')\n",
    "SERPAPI_API_KEY = os.getenv('SERPAPI_API_KEY')\n",
    "PINECONE_API_KEY = os.getenv('PINECONE_API_KEY')\n",
    "PINECONE_API_KEY = os.getenv('PINECONE_API_KEY')"
   ]
  },
  {
   "cell_type": "markdown",
   "id": "7c8aa4e8-ebc2-404c-89ca-b42fe610c460",
   "metadata": {},
   "source": [
    "## Simple prompt template example"
   ]
  },
  {
   "cell_type": "code",
   "execution_count": null,
   "id": "a5b4bfae-5ad2-469d-b7c0-a4c81162a9f3",
   "metadata": {},
   "outputs": [],
   "source": [
    "from langchain.prompts import PromptTemplate\n",
    "\n",
    "prompt = PromptTemplate(\n",
    "    input_variables=[\"product\"],\n",
    "    template=\"What is a good name for a company that makes {product}?\",\n",
    ")\n",
    "\n",
    "print(prompt.format(product=\"podcast player\"))"
   ]
  },
  {
   "cell_type": "code",
   "execution_count": null,
   "id": "1c35ec93-a0ff-40c7-b4f2-fb2ec3386549",
   "metadata": {},
   "outputs": [],
   "source": [
    "from langchain.llms import OpenAI\n",
    "from langchain.chains import LLMChain\n",
    "\n",
    "llm = OpenAI(\n",
    "          model_name=\"text-davinci-003\",\n",
    "          temperature=0.9)\n",
    "llmchain = LLMChain(llm=llm, prompt=prompt)\n",
    "\n",
    "llmchain.run(\"Large Language Models\")"
   ]
  },
  {
   "cell_type": "markdown",
   "id": "35669e94-197a-4205-bd6e-27b43501417c",
   "metadata": {},
   "source": [
    "Let’s initialize an agent using initialize_agent and pass it the tools and LLM it needs. There’s a long list of tools available here that an agent can use to interact with the outside world. For our example, we are using the same math-solving tool as above, called pal-math. This one requires an LLM at the time of initialization, so we pass to it the same OpenAI LLM instance as before."
   ]
  },
  {
   "cell_type": "code",
   "execution_count": 17,
   "id": "70d93c2a-451f-4375-9d6c-a8aaa3b7d775",
   "metadata": {},
   "outputs": [
    {
     "name": "stdout",
     "output_type": "stream",
     "text": [
      "\n",
      "\n",
      "\u001b[1m> Entering new AgentExecutor chain...\u001b[0m\n",
      "\u001b[32;1m\u001b[1;3m I need to figure out my dad's current age and then divide it by two.\n",
      "Action: PAL-MATH\n",
      "Action Input: What is my dad's current age if he is going to be 60 next year?\u001b[0m59\n",
      "\n",
      "\n",
      "Observation: \u001b[36;1m\u001b[1;3m59\u001b[0m\n",
      "Thought:\u001b[32;1m\u001b[1;3m I now know my dad's current age, so I can divide it by two to get my age.\n",
      "Action: Divide 59 by 2\n",
      "Action Input: 59/2\u001b[0m\n",
      "Observation: Divide 59 by 2 is not a valid tool, try another one.\n",
      "Thought:\u001b[32;1m\u001b[1;3m I can use PAL-MATH to divide 59 by 2.\n",
      "Action: PAL-MATH\n",
      "Action Input: Divide 59 by 2\u001b[0m29.5\n",
      "\n",
      "\n",
      "Observation: \u001b[36;1m\u001b[1;3m29.5\u001b[0m\n",
      "Thought:\u001b[32;1m\u001b[1;3m I now know the final answer.\n",
      "Final Answer: My current age is 29.5 years old.\u001b[0m\n",
      "\n",
      "\u001b[1m> Finished chain.\u001b[0m\n"
     ]
    },
    {
     "data": {
      "text/plain": [
       "'My current age is 29.5 years old.'"
      ]
     },
     "execution_count": 17,
     "metadata": {},
     "output_type": "execute_result"
    }
   ],
   "source": [
    "from langchain.agents import initialize_agent\n",
    "from langchain.agents import AgentType\n",
    "from langchain.agents import load_tools\n",
    "\n",
    "llm = OpenAI(temperature=0)\n",
    "tools = load_tools([\"pal-math\"], llm=llm)\n",
    "\n",
    "agent = initialize_agent(tools,\n",
    "                         llm,\n",
    "                         agent=AgentType.ZERO_SHOT_REACT_DESCRIPTION,\n",
    "                         verbose=True)\n",
    "\n",
    "agent.run(\"If my age is half of my dad's age and he is going to be 60 next year, what is my current age?\")"
   ]
  },
  {
   "cell_type": "code",
   "execution_count": null,
   "id": "c0324de5-c5e9-4a6b-9965-fa60b2b7bf77",
   "metadata": {},
   "outputs": [],
   "source": []
  },
  {
   "cell_type": "code",
   "execution_count": null,
   "id": "4725b880-9dee-404c-8817-5b58ff4ef367",
   "metadata": {},
   "outputs": [],
   "source": []
  }
 ],
 "metadata": {
  "kernelspec": {
   "display_name": "Python 3 (ipykernel)",
   "language": "python",
   "name": "python3"
  },
  "language_info": {
   "codemirror_mode": {
    "name": "ipython",
    "version": 3
   },
   "file_extension": ".py",
   "mimetype": "text/x-python",
   "name": "python",
   "nbconvert_exporter": "python",
   "pygments_lexer": "ipython3",
   "version": "3.9.6"
  }
 },
 "nbformat": 4,
 "nbformat_minor": 5
}
