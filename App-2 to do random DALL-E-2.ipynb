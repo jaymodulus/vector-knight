{
 "cells": [
  {
   "cell_type": "markdown",
   "id": "4189aa2a-b6f9-4c8b-a710-33aaec4692d5",
   "metadata": {},
   "source": [
    "# App to do random DALL-E-2 Generation"
   ]
  },
  {
   "cell_type": "code",
   "execution_count": null,
   "id": "23be3f42-ba7c-4782-b6e7-382d5c7a1a5c",
   "metadata": {},
   "outputs": [],
   "source": [
    "# Set up the API Keys and such\n",
    "import os \n",
    "from dotenv import load_dotenv, find_dotenv\n",
    "load_dotenv(find_dotenv())\n",
    "\n",
    "OPENAI_API_KEY = os.getenv('OPENAI_API_KEY')\n",
    "SERPAPI_API_KEY = os.getenv('SERPAPI_API_KEY')\n",
    "PINECONE_API_KEY = os.getenv('PINECONE_API_KEY')\n",
    "PINECONE_API_KEY = os.getenv('PINECONE_API_KEY')\n",
    "HNSWLIB_NO_NATIVE = os.getenv('PINECONE_API_KEY')"
   ]
  },
  {
   "cell_type": "code",
   "execution_count": null,
   "id": "9196f7d6-00c9-4137-88bf-0a16b7084065",
   "metadata": {},
   "outputs": [],
   "source": [
    "import openai\n",
    "import pandas as pd\n",
    "from langchain.llms import OpenAI\n",
    "from langchain.chat_models import ChatOpenAI\n",
    "from langchain.prompts import PromptTemplate\n",
    "import requests\n",
    "from PIL import Image\n",
    "from io import BytesIO\n",
    "from IPython.display import display"
   ]
  },
  {
   "cell_type": "code",
   "execution_count": null,
   "id": "bf03ad73-a348-4642-95cd-2dfb7e66efef",
   "metadata": {},
   "outputs": [],
   "source": [
    "# Didn't wind up using this, but leaving for now\n",
    "def get_completion(prompt, model=\"gpt-3.5-turbo\"):\n",
    "    messages = [{\"role\": \"user\", \"content\": prompt}]\n",
    "    response = openai.ChatCompletion.create(\n",
    "        model=model,\n",
    "        messages=messages,\n",
    "        temperature=0, \n",
    "    )\n",
    "    return response.choices[0].message[\"content\"]"
   ]
  },
  {
   "cell_type": "code",
   "execution_count": null,
   "id": "9cd68fcd-2bea-43ff-8c45-eb368498d73b",
   "metadata": {},
   "outputs": [],
   "source": [
    "def generate_image(random_words):\n",
    "    # Use the DALL-E API to create a single image from the random words\n",
    "    image_response = openai.Image.create(\n",
    "    prompt=random_words,\n",
    "    n=1,\n",
    "    size=\"512x512\",\n",
    ")\n",
    "    url = image_response['data'][0]['url']\n",
    "    return url"
   ]
  },
  {
   "cell_type": "code",
   "execution_count": null,
   "id": "eeab42da-fb6c-448c-9da7-ae6ddfd5e322",
   "metadata": {},
   "outputs": [],
   "source": [
    "def display_image(url):\n",
    "    # Display the image from the url\n",
    "\n",
    "    # Use requests to get the image data\n",
    "    image = requests.get(url)\n",
    "\n",
    "    # Check if the request was successful\n",
    "    if image.status_code == 200:\n",
    "        # Get the content of the response\n",
    "        img_data = image.content\n",
    "    \n",
    "        # Create a PIL image from the byte data\n",
    "        img = Image.open(BytesIO(img_data))\n",
    "    \n",
    "        # Display the image\n",
    "        display(img)\n",
    "    else:\n",
    "        print(f'Unable to retrieve the image. HTTP status code: {response.status_code}')\n",
    "\n",
    "    "
   ]
  },
  {
   "cell_type": "code",
   "execution_count": null,
   "id": "f1cf4627-9c01-45bd-9c1b-53d2ab899ff1",
   "metadata": {},
   "outputs": [],
   "source": []
  },
  {
   "cell_type": "code",
   "execution_count": null,
   "id": "2b6195f9-df0c-4f46-9de8-96cadb176b9f",
   "metadata": {},
   "outputs": [],
   "source": [
    "# MAIN #################################\n",
    "\n",
    "# Initialize the LLM\n",
    "llm = OpenAI(temperature=0.9)\n",
    "\n",
    "i = 1\n",
    "while (i < 15):\n",
    "    # LOOP HERE\n",
    "\n",
    "    # Create the prompt and execute it\n",
    "    text = f\"\"\"\n",
    "    Return 3 random words separated by spaces without comma delimiters.\n",
    "    Each word will have no relation to each other.\n",
    "    \"\"\"\n",
    " \n",
    "    random_words = llm(text)\n",
    "    print(random_words)\n",
    "\n",
    "    random_words += \" in cyberpunk style\"\n",
    "\n",
    "\n",
    "    url = generate_image(random_words)\n",
    "    display_image(url)\n",
    "    \n",
    "    i += 1"
   ]
  },
  {
   "cell_type": "code",
   "execution_count": null,
   "id": "1b103224-4214-410c-9241-9183527cb371",
   "metadata": {},
   "outputs": [],
   "source": []
  }
 ],
 "metadata": {
  "kernelspec": {
   "display_name": "Python 3 (ipykernel)",
   "language": "python",
   "name": "python3"
  },
  "language_info": {
   "codemirror_mode": {
    "name": "ipython",
    "version": 3
   },
   "file_extension": ".py",
   "mimetype": "text/x-python",
   "name": "python",
   "nbconvert_exporter": "python",
   "pygments_lexer": "ipython3",
   "version": "3.9.6"
  }
 },
 "nbformat": 4,
 "nbformat_minor": 5
}
