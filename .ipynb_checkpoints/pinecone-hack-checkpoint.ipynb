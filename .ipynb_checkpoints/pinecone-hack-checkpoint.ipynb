{
 "cells": [
  {
   "cell_type": "markdown",
   "id": "ee11f585-1e1f-44cd-ae9e-dd86842c4cf2",
   "metadata": {},
   "source": [
    "\n",
    "# Pinecone hacking\n",
    "[Examples from this website](https://docs.pinecone.io/docs/python-client)"
   ]
  },
  {
   "cell_type": "code",
   "execution_count": 10,
   "id": "995d3777-eb35-4695-b40c-2dbb1c44772d",
   "metadata": {},
   "outputs": [],
   "source": [
    "import os \n",
    "from dotenv import load_dotenv, find_dotenv\n",
    "load_dotenv(find_dotenv())"
   ]
  },
  {
   "cell_type": "markdown",
   "id": "760623a7-2c20-460a-aefa-430b5018d7dd",
   "metadata": {},
   "source": []
  },
  {
   "cell_type": "code",
   "execution_count": 13,
   "id": "7e6ae138-1899-48e5-92d3-96930ec68cdf",
   "metadata": {},
   "outputs": [],
   "source": [
    "import os"
   ]
  },
  {
   "cell_type": "code",
   "execution_count": null,
   "id": "89e0117b-12ef-423b-a29a-9037d701de1e",
   "metadata": {},
   "outputs": [],
   "source": []
  },
  {
   "cell_type": "code",
   "execution_count": null,
   "id": "86a2009c-6bdc-4091-af96-6d7e85cf1b2d",
   "metadata": {},
   "outputs": [],
   "source": []
  },
  {
   "cell_type": "code",
   "execution_count": null,
   "id": "84564843-68ad-4dbe-ad4b-1f7cfe7383cf",
   "metadata": {},
   "outputs": [],
   "source": []
  },
  {
   "cell_type": "markdown",
   "id": "2b90bcf4-2d0f-45b7-b075-c952263353c3",
   "metadata": {},
   "source": [
    "## This is a place to mess around with Pinecone"
   ]
  },
  {
   "cell_type": "code",
   "execution_count": 14,
   "id": "0c3dc0b2-8318-485a-9224-7b4ce280ddfd",
   "metadata": {},
   "outputs": [],
   "source": [
    "import pinecone\n",
    "\n",
    "api_key = os.getenv('PINECONE_API_KEY')\n",
    "api_env = os.getenv('PINECONE_API_ENV')\n"
   ]
  },
  {
   "cell_type": "code",
   "execution_count": 15,
   "id": "d2ac050c-4aa2-4203-9029-2d12e39545df",
   "metadata": {},
   "outputs": [],
   "source": [
    "pinecone.init(api_key=api_key,\n",
    "              environment=api_env)"
   ]
  },
  {
   "cell_type": "code",
   "execution_count": 16,
   "id": "f51a20a9-f433-434f-a2f3-f3017ddd73f6",
   "metadata": {},
   "outputs": [],
   "source": [
    "active_indexes = pinecone.list_indexes()"
   ]
  },
  {
   "cell_type": "code",
   "execution_count": 17,
   "id": "9dab3bcb-5413-4622-8e10-27422baf43b1",
   "metadata": {},
   "outputs": [
    {
     "data": {
      "text/plain": [
       "['langchaintest']"
      ]
     },
     "execution_count": 17,
     "metadata": {},
     "output_type": "execute_result"
    }
   ],
   "source": [
    "active_indexes"
   ]
  },
  {
   "cell_type": "code",
   "execution_count": 18,
   "id": "9100fd6e-c118-4098-ae9c-4cfed9b1ff0a",
   "metadata": {},
   "outputs": [],
   "source": [
    "index_description = pinecone.describe_index(\"langchaintest\")\n"
   ]
  },
  {
   "cell_type": "code",
   "execution_count": 19,
   "id": "35211492-17d4-4e1a-81f1-a16723e21400",
   "metadata": {},
   "outputs": [
    {
     "data": {
      "text/plain": [
       "IndexDescription(name='langchaintest', metric='cosine', replicas=1, dimension=1536.0, shards=1, pods=1, pod_type='p1.x1', status={'ready': True, 'state': 'Ready'}, metadata_config=None, source_collection='')"
      ]
     },
     "execution_count": 19,
     "metadata": {},
     "output_type": "execute_result"
    }
   ],
   "source": [
    "index_description"
   ]
  },
  {
   "cell_type": "code",
   "execution_count": 20,
   "id": "a490f9c7-2b12-400a-92cb-26592f2d0ac1",
   "metadata": {},
   "outputs": [
    {
     "name": "stdout",
     "output_type": "stream",
     "text": [
      "zsh:1: no matches found: pinecone-client[grpc]\n"
     ]
    }
   ],
   "source": [
    "!pip install -qU pinecone-client[grpc] pinecone-datasets sentence-transformers"
   ]
  },
  {
   "cell_type": "markdown",
   "id": "2177b537-922d-482a-9f33-a68a23e581d6",
   "metadata": {},
   "source": [
    "| Column 1 | Column 2 |\n",
    "|----------|----------|\n",
    "|   Cell   |   Cell   |\n"
   ]
  },
  {
   "cell_type": "markdown",
   "id": "8576e5f8-3efd-486d-9b64-a4d17e5ef95c",
   "metadata": {},
   "source": [
    "[OpenAI's website](https://openai.com)"
   ]
  },
  {
   "cell_type": "code",
   "execution_count": null,
   "id": "c8c610b7-28bf-4f53-9a2f-22cebf12306f",
   "metadata": {},
   "outputs": [],
   "source": []
  }
 ],
 "metadata": {
  "kernelspec": {
   "display_name": "Python 3 (ipykernel)",
   "language": "python",
   "name": "python3"
  },
  "language_info": {
   "codemirror_mode": {
    "name": "ipython",
    "version": 3
   },
   "file_extension": ".py",
   "mimetype": "text/x-python",
   "name": "python",
   "nbconvert_exporter": "python",
   "pygments_lexer": "ipython3",
   "version": "3.9.6"
  }
 },
 "nbformat": 4,
 "nbformat_minor": 5
}
