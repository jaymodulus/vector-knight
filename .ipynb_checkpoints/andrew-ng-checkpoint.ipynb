{
 "cells": [
  {
   "cell_type": "code",
   "execution_count": null,
   "id": "8e405f5c-6cb7-4e14-be93-65a438452699",
   "metadata": {},
   "outputs": [],
   "source": [
    "# https://learn.deeplearning.ai/chatgpt-prompt-eng/lesson/2/guidelines\n",
    "import os \n",
    "from dotenv import load_dotenv, find_dotenv\n",
    "load_dotenv(find_dotenv())"
   ]
  },
  {
   "cell_type": "code",
   "execution_count": null,
   "id": "37d63257-5d8a-4835-a83a-241b4832ef8b",
   "metadata": {},
   "outputs": [],
   "source": [
    "import openai\n",
    "openai.api_key = os.getenv('OPENAI_API_KEY')"
   ]
  },
  {
   "cell_type": "markdown",
   "id": "a95c2c32-7a19-4184-bcff-12a1aadeb37e",
   "metadata": {},
   "source": [
    "#### helper function\n",
    "Throughout this course, we will use OpenAI's `gpt-3.5-turbo` model and the [chat completions endpoint](https://platform.openai.com/docs/guides/chat). \n",
    "\n",
    "This helper function will make it easier to use prompts and look at the generated outputs:"
   ]
  },
  {
   "cell_type": "code",
   "execution_count": null,
   "id": "e9631a94-3150-4401-a50c-562151d4cc75",
   "metadata": {},
   "outputs": [],
   "source": [
    "# gpt-3.5-turbo\n",
    "\n",
    "def get_completion(prompt, model=\"gpt-3.5-turbo\"):\n",
    "    messages = [{\"role\": \"user\", \"content\": prompt}]\n",
    "    response = openai.ChatCompletion.create(\n",
    "        model=model,\n",
    "        messages=messages,\n",
    "        temperature=0.1, # this is the degree of randomness of the model's output\n",
    "    )\n",
    "    return response.choices[0].message[\"content\"]"
   ]
  },
  {
   "cell_type": "markdown",
   "id": "86a722ba-140c-4a21-9e55-63cfe893b96f",
   "metadata": {},
   "source": [
    "## Prompting Principles\n",
    "- **Principle 1: Write clear and specific instructions**\n",
    "- **Principle 2: Give the model time to “think”**\n",
    "\n",
    "### Tactics\n",
    "\n",
    "#### Tactic 1: Use delimiters to clearly indicate distinct parts of the input\n",
    "- Delimiters can be anything like: ```, \"\"\", < >, `<tag> </tag>`, `:`"
   ]
  },
  {
   "cell_type": "code",
   "execution_count": null,
   "id": "7800744b-c30f-4f82-9ffe-360e61529b96",
   "metadata": {},
   "outputs": [],
   "source": [
    "text = f\"\"\"\n",
    "You should express what you want a model to do by \\ \n",
    "providing instructions that are as clear and \\ \n",
    "specific as you can possibly make them. \\ \n",
    "This will guide the model towards the desired output, \\ \n",
    "and reduce the chances of receiving irrelevant \\ \n",
    "or incorrect responses. Don't confuse writing a \\ \n",
    "clear prompt with writing a short prompt. \\ \n",
    "In many cases, longer prompts provide more clarity \\ \n",
    "and context for the model, which can lead to \\ \n",
    "more detailed and relevant outputs.\n",
    "\"\"\"\n",
    "prompt = f\"\"\"\n",
    "Summarize the text delimited by triple backticks \\ \n",
    "into a single sentence.\n",
    "```{text}```\n",
    "\"\"\"\n",
    "response = get_completion(prompt)\n",
    "print(response)"
   ]
  },
  {
   "cell_type": "markdown",
   "id": "87a75599-be46-4f9d-b567-fa144f5a7558",
   "metadata": {},
   "source": [
    "#### Tactic 2: Ask for a structured output\n",
    "- JSON, HTML"
   ]
  },
  {
   "cell_type": "code",
   "execution_count": null,
   "id": "c3364532-fa25-4134-bb85-99d4288e08f8",
   "metadata": {},
   "outputs": [],
   "source": [
    "prompt = f\"\"\"\n",
    "Generate a list of three made-up book titles along \\ \n",
    "with their authors and genres. \n",
    "Provide them in JSON format with the following keys: \n",
    "book_id, title, author, genre.\n",
    "\"\"\"\n",
    "response = get_completion(prompt)\n",
    "print(response)"
   ]
  },
  {
   "cell_type": "markdown",
   "id": "ccd3abdd-258f-4b16-b7d9-c29a75dfb533",
   "metadata": {},
   "source": [
    "#### Tactic 3: Ask the model to check whether conditions are satisfied"
   ]
  },
  {
   "cell_type": "code",
   "execution_count": null,
   "id": "3ad49056-910d-4363-b43a-def8a403bf4d",
   "metadata": {},
   "outputs": [],
   "source": [
    "text_1 = f\"\"\"\n",
    "Making a cup of tea is easy! First, you need to get some \\ \n",
    "water boiling. While that's happening, \\ \n",
    "grab a cup and put a tea bag in it. Once the water is \\ \n",
    "hot enough, just pour it over the tea bag. \\ \n",
    "Let it sit for a bit so the tea can steep. After a \\ \n",
    "few minutes, take out the tea bag. If you \\ \n",
    "like, you can add some sugar or milk to taste. \\ \n",
    "And that's it! You've got yourself a delicious \\ \n",
    "cup of tea to enjoy.\n",
    "\"\"\"\n",
    "prompt = f\"\"\"\n",
    "You will be provided with text delimited by triple quotes. \n",
    "If it contains a sequence of instructions, \\ \n",
    "re-write those instructions in the following format:\n",
    "\n",
    "Step 1 - ...\n",
    "Step 2 - …\n",
    "…\n",
    "Step N - …\n",
    "\n",
    "If the text does not contain a sequence of instructions, \\ \n",
    "then simply write \\\"No steps provided.\\\"\n",
    "\n",
    "\\\"\\\"\\\"{text_1}\\\"\\\"\\\"\n",
    "\"\"\"\n",
    "response = get_completion(prompt)\n",
    "print(\"Completion for Text 1:\")\n",
    "print(response)"
   ]
  },
  {
   "cell_type": "code",
   "execution_count": null,
   "id": "8ca26149-17a0-42b6-959f-474e724c8804",
   "metadata": {},
   "outputs": [],
   "source": [
    "story = \"\"\"\n",
    "Franz Liszt: A Life of Musical Genius and Passion\n",
    "\n",
    "Born on October 22, 1811, in Raiding, Hungary, Franz Liszt was destined to become one of the most celebrated composers and pianists of the 19th century. An icon of the Romantic era, Liszt's prodigious talent, charismatic stage presence, and magnetic personality captured the hearts of audiences and fellow musicians alike.\n",
    "\n",
    "Early Life and Prodigy\n",
    "Liszt's musical journey began at a young age, thanks to his father, Adam Liszt, a talented amateur musician who worked as a steward in the service of the Esterházy family. Recognizing his son's natural aptitude for music, Adam provided Franz with piano lessons from the age of six. By the time he was nine, Liszt was already performing publicly.\n",
    "\n",
    "His talent caught the attention of Hungarian nobles, who offered to sponsor his education in Vienna, a prominent musical hub. At just 11 years old, Liszt began studying with Carl Czerny, a former student of Ludwig van Beethoven, and the esteemed composer Antonio Salieri. He quickly mastered the piano, and his first compositions began to emerge. His debut concert in 1822 garnered rave reviews, with some comparing him to the legendary Mozart.\n",
    "\n",
    "Paris, Paganini, and the Birth of a Virtuoso\n",
    "In 1823, the Liszt family moved to Paris, where young Franz sought to enroll at the Conservatoire de Paris. However, he was rejected on the grounds of his foreign origin. Undeterred, he continued his studies privately and established himself as a sought-after piano teacher. During these years, he was influenced by the works of contemporary composers such as Hector Berlioz and Niccolò Paganini.\n",
    "\n",
    "After attending a Paganini concert in 1832, Liszt was inspired to become the \"Paganini of the piano.\" He withdrew from public life and dedicated himself to mastering the instrument, developing revolutionary techniques that would later be dubbed the \"Liszt method.\" He reemerged as a virtuoso, captivating audiences with his electrifying performances and showmanship. He embarked on a dazzling concert tour that took him across Europe, garnering him unprecedented fame and adulation. Many of his works, such as the \"Transcendental Études\" and \"Hungarian Rhapsodies,\" demonstrated his extraordinary prowess and originality.\n",
    "\n",
    "Love and Scandal\n",
    "Liszt's romantic life was tumultuous and marked by several high-profile relationships. In 1833, he began a passionate affair with the married Countess Marie d'Agoult, which resulted in the birth of three children, including their daughter Cosima, who would later marry composer Richard Wagner. The scandal surrounding their relationship forced them to flee Paris and seek refuge in Switzerland, where they lived together for several years. During this period, Liszt composed the \"Années de Pèlerinage,\" a set of piano suites that captured his experiences and emotions.\n",
    "\n",
    "After his relationship with Marie ended, Liszt became involved with Princess Carolyne zu Sayn-Wittgenstein, who would remain his companion for the rest of his life. The couple settled in Weimar, Germany, where Liszt focused on his career as a composer and conductor, producing some of his most significant works, including the \"Faust\" and \"Dante\" symphonies.\n",
    "\n",
    "The \"Musician of the Future\"\n",
    "Liszt's innovative approach to music, characterized by his incorporation of literary and artistic themes, experimentation with form, and unprecedented virtuosity, earned him the label \"Musician of the Future.\" His impact extended beyond his own works, as he generously supported and championed the music of other composers, including Wagner,\n",
    "\"\"\""
   ]
  },
  {
   "cell_type": "code",
   "execution_count": null,
   "id": "154f3030-3fc8-412b-a27d-b7ea4a47227d",
   "metadata": {},
   "outputs": [],
   "source": [
    "# Open the file in read mode ('r')\n",
    "with open('filename.txt', 'r') as file:\n",
    "    # Read the entire file into a variable\n",
    "    data = file.read()\n",
    "\n",
    "# Now the variable 'data' contains the contents of the file\n",
    "print(data)\n"
   ]
  },
  {
   "cell_type": "code",
   "execution_count": null,
   "id": "ec0e5df1-b015-4305-9b8b-cd3fff296b3d",
   "metadata": {},
   "outputs": [],
   "source": [
    "prompt = f\"\"\"\n",
    "Determine five topics that are being discussed in the \\\n",
    "following text, which is delimited by triple backticks.\n",
    "\n",
    "Make each item one or two words long. \n",
    "\n",
    "Format your response as a list of items separated by commas.\n",
    "\n",
    "Text sample: '''{content_to_detect_topics}'''\n",
    "\"\"\"\n",
    "response = get_completion(prompt)\n",
    "print(response)"
   ]
  },
  {
   "cell_type": "code",
   "execution_count": null,
   "id": "1c6ab37b-75ba-41ad-8499-9feacdd5ae00",
   "metadata": {},
   "outputs": [],
   "source": [
    "response.split(sep=',')"
   ]
  },
  {
   "cell_type": "code",
   "execution_count": null,
   "id": "14895acb-cb81-4179-9e13-40dd69e0a5dc",
   "metadata": {},
   "outputs": [],
   "source": [
    "summarize_this = \"\"\"\n",
    "\n",
    "\n",
    "we have to host the search application. So that piece has to be hosted in a web server somewhere and I think we were initially looking at Azure web apps, but I think we were suggested to use AKs. We'd like to understand how to use your AKS DEV YAML cuz, I mean, if you have those DevOps scripts or whatever it's needed for us to start looking into it. So that's that's where I think we wanted to understand.\n",
    "\n",
    "Unknown 3:49\n",
    "So I just want to do is use case what is it exactly what when you say webapp, right, like, what does that mean? Like what kind of application you just wanted to host you says certificates and that's it. I mean, what what are you looking for?\n",
    "\n",
    "Unknown 4:40\n",
    "So our application is a single page application. That would be built on React using React components, mostly the JavaScript libraries that Coveo has provided the main they called up, they have something called ATOMIC which is basically underlying its React components.\n",
    "\n",
    "Unknown 5:17\n",
    "oops. So the component the third, the box here, the third I think this this one is what we were planning to host. The support may eventually I think we haven't decided on whether the SharePoint experience will be within SharePoint or outside but at least we know that this would be needed. So where we need to host certain components for the standalone source application are certain components that we will need like for the type ahead or those things. That's where we were planning to hold I mean, most of these, either we could deploy the Node js server or it could be any of the container that supports JavaScript.\n",
    "\n",
    "Unknown 6:01\n",
    "is it exposed, sort of, you know, using an Ingress and who's reaching out to getting reached out from outside can you tell us more about\n",
    "\n",
    "Unknown 6:21\n",
    "so it's not gonna be I think it's all of these are. I'm guessing there's two. One of these is a Jones think Desktop Search, which I believe is all internal. So it's all going to be internal application. I don't think there's going to be any outside of the of the Edward Jones will be reaching out only thing is this search application does have to reach to the cover index, which is outside which the SAS solution so this it has to reach out. And then we also need to integrate the authentication that's with the Azure AD. So as you see this one, and I think the Coveo so that's the only thing that's going to be crossed out. But in I mean, everything that's going to be accessing this application would be inside the Edward Jones. \n",
    "\n",
    "Unknown 9:42\n",
    "DevOps enablement team that will help you, you know, set up the pipeline to do your deployments starting in dev, to at least get your reactor you know, running in our general application cluster that I don't think that's going to be a heavy lift. You could you'll be able to reach outside because as long as the cause is through Port 443 to your Coveo location. You're passing through our proxy Zscaler. They're reaching from places like Johns Link for now, right? That should still be okay. As long as you can expose your Ingress for you to be able to be hit by whatever internal that should be fine. Going forward though, when Salesforce comes on board, then you need to think about moving this into a different cluster. We have a cluster specifically for applications to be reaching out from outside, it's specifically Salesforce that provides so you be deployed I think in that that's a mule soft Application Gateway type deal. So you're going to be deploying your application in that environment expose out so that Salesforce could reach out to you or utilize API gateway to get into a different cluster that you're running or react depending on what the situation is just just this one here is going to be for future as we move towards\n",
    "\n",
    "Unknown 12:14\n",
    "so is there a mean for the source repository for the DevOps pipeline? Is it in Azure DevOps, or is it in your\n",
    "\n",
    "Unknown 12:23\n",
    "internal CloudBees based DevOps pipeline? Okay.\n",
    "\n",
    "Unknown 12:29\n",
    "Is that something you could share the information about?\n",
    "\n",
    "Unknown 12:32\n",
    "Yeah, I'll send you to the team that manages that. And they have example helm manifests for you to use search construct revenue application deployments.\n",
    "\n",
    "Unknown 12:46\n",
    "So yes, use the Helm chart for this. Yes. Yep. Okay. So I guess I mean, who I mean to be coordinated with that team further, like we need any help.\n",
    "\n",
    "Unknown 12:59\n",
    "So the from the AKS cluster is up and running, you know, in every day, like I'm saying, we're ready to take whatever application we're throwing it, you know, edit so all you need really for you to function is to get pipeline going. You need so Eric need for this. He has to work in an event in this in this environment, or whoever is working on this needs access to Azure, right. So usually, there's a cloud intake process just to get you access to Azure.\n",
    "\n",
    "Unknown 13:31\n",
    "Yeah, and that's where I'm looking to bring in Emily to work in, you know, we already had our\n",
    "\n",
    "Unknown 13:40\n",
    "bank already has, I believe, Emily, I don't think anybody is watching the show yet. One specific access do you need is your you need, you need access. You need your privileged Id given privileges to work in Azure because I'm imagining once you have your deployment there you want to be able to manage your deployment. So you know, access to machine that has like Kubectl access, right? Access to the namespace that's going to get created for your applications to be running inside. So that you can manage your app.\n",
    "\n",
    "Unknown 14:26\n",
    "Where do you run the your Kubectl client I mean, is that something it's a VDI we could run it or we have\n",
    "\n",
    "Unknown 14:32\n",
    "a jump box inside as your that's that one that I'm asking for you? Guys to have access to? Okay. Yeah.\n",
    "\n",
    "Unknown 14:45\n",
    "Because we typically log into the privileged account, I think through the clone environment, I mean, there's a I'm guessing this is a different mechanism.\n",
    "\n",
    "Unknown 14:55\n",
    "No this one here is so here's what we do the cluster is already up there, right? You will need to have a need to be put into an intake process. It is not very complicated. It's just like hey, these people want to work inside as your and through that process. It includes creation of a namespace specifically for your application inside Kubernetes. Right? Yeah, once that namespace is created, then you through AD we are granted access, depending on who's working in this project, that people are going to have admin access that people are going to have just developer access. For that particular namespace right. In that namespace. Basically, there are people who are admins or people who are normal user, and then your, your, your, your CI CD pipeline just goes out and deploy the pods inside that namespace. The admin is able to, I don't know scale the pod kill the pod, you know, interrogate the pod, do whatever the developer is able to list. And I think the terminus thing is also give up\n",
    "\n",
    "\n",
    "\n",
    "\n",
    "\"\"\""
   ]
  },
  {
   "cell_type": "code",
   "execution_count": null,
   "id": "985e9d22-8e51-4d7c-9310-1683b861daea",
   "metadata": {},
   "outputs": [],
   "source": [
    "with open('your_file.txt', 'r') as file:\n",
    "    text = file.read()\n",
    "\n",
    "print(text)\n",
    "\n"
   ]
  },
  {
   "cell_type": "code",
   "execution_count": null,
   "id": "f3992e2e-b5e7-4819-9c0a-f720ea971a7e",
   "metadata": {},
   "outputs": [],
   "source": [
    "!pip install PyPDF2"
   ]
  },
  {
   "cell_type": "code",
   "execution_count": null,
   "id": "c8dc54ee-a4f8-43d6-b01b-a1b44a2d0033",
   "metadata": {},
   "outputs": [],
   "source": [
    "import PyPDF2\n",
    "\n",
    "# Open the PDF file\n",
    "# pdfFileObj = open('/Users/jayhill/job-companies/databricks/Big-Book-of-Data-Engineering-Final.pdf', 'rb')\n",
    "\n",
    "\n"
   ]
  },
  {
   "cell_type": "code",
   "execution_count": null,
   "id": "a91189bd-5c29-4460-bb55-d3a5911109de",
   "metadata": {},
   "outputs": [],
   "source": [
    "!pip install pymupdf\n"
   ]
  },
  {
   "cell_type": "code",
   "execution_count": null,
   "id": "5f8e38f7-c4bd-4c35-8605-4751cbe1669e",
   "metadata": {},
   "outputs": [],
   "source": [
    "import fitz\n",
    "\n",
    "the_pdf = \"/Users/jayhill/pdfs/sanjay.pdf\"\n",
    "\n",
    "doc = fitz.open(the_pdf)\n",
    "\n",
    "print(doc)"
   ]
  },
  {
   "cell_type": "code",
   "execution_count": null,
   "id": "dee31997-a0fe-4b05-87ae-54c75901a24d",
   "metadata": {},
   "outputs": [],
   "source": [
    "# Open the file in read mode ('r')\n",
    "with open('/Users/jayhill/pdfs/x.txt', 'r') as file:\n",
    "    # Read the entire file into a variable\n",
    "    data = file.read()\n",
    "\n",
    "# Now the variable 'data' contains the contents of the file\n",
    "#print(data)\n"
   ]
  },
  {
   "cell_type": "code",
   "execution_count": null,
   "id": "eb14b7e8-169a-45a7-bdfa-22575e77549e",
   "metadata": {},
   "outputs": [],
   "source": [
    "i = 0\n",
    "summarize_this = \"\"\n",
    "\n",
    "print(\"happening now....................\")\n",
    "for page in doc:\n",
    "    i += 1\n",
    "\n",
    "    text = page.get_text()\n",
    "    summarize_this += text\n",
    "    \n",
    "    if i == 1:\n",
    "        break\n",
    "\n",
    "print(text)"
   ]
  },
  {
   "cell_type": "code",
   "execution_count": null,
   "id": "3e712300-e577-48c2-b0f9-8a92984a1668",
   "metadata": {},
   "outputs": [],
   "source": [
    "print(summarize_this)"
   ]
  },
  {
   "cell_type": "code",
   "execution_count": null,
   "id": "f337c885-9da5-411f-8555-04ae5b32f7e0",
   "metadata": {},
   "outputs": [],
   "source": [
    "prompt = f\"\"\"\n",
    "Summarize the following text.\n",
    "\n",
    "Make the response about 20 sentences broken into paragraphs.\n",
    "\n",
    "The output should be a Markdown code snippet:\n",
    "\n",
    "Text sample: '''{data}'''\n",
    "\n",
    "\"\"\"\n",
    "response = get_completion(prompt)\n",
    "\n",
    "print(response)"
   ]
  },
  {
   "cell_type": "code",
   "execution_count": null,
   "id": "561a3684-509a-4f7b-9f38-fdd6e2b6c4cb",
   "metadata": {},
   "outputs": [],
   "source": [
    "len(response)"
   ]
  },
  {
   "cell_type": "code",
   "execution_count": null,
   "id": "69637b32-51ba-4fc5-aa34-9a6d284fb27c",
   "metadata": {},
   "outputs": [],
   "source": [
    "# write python code to read in all files in a directory and put all or the text from each file in a list where each item in the list is the text from each file\n",
    "\n",
    "import os\n",
    "\n",
    "# Specify the directory you want to use\n",
    "directory = '/Users/jayhill/txt'\n",
    "\n",
    "# Initialize an empty list to hold the contents of each file\n",
    "files_contents = []\n",
    "\n",
    "# Iterate over all files in the specified directory\n",
    "for filename in os.listdir(directory):\n",
    "    # Create the full file path by joining the directory path and the filename\n",
    "    filepath = os.path.join(directory, filename)\n",
    "    \n",
    "    # Open each file\n",
    "    with open(filepath, 'r') as file:\n",
    "        # Read the file content and append it to the list\n",
    "        files_contents.append(file.read())\n",
    "\n",
    "# Now files_contents is a list where each item is the text from a file in the directory\n"
   ]
  },
  {
   "cell_type": "code",
   "execution_count": null,
   "id": "daa0f630-befb-4dca-93d7-6532f09067b2",
   "metadata": {},
   "outputs": [],
   "source": [
    "for content in files_contents:\n",
    "    print(content + \"\\n\\n----------------------------------\\n\\n\")"
   ]
  },
  {
   "cell_type": "code",
   "execution_count": null,
   "id": "d113c3f1-afb9-4a7c-a344-f300b8cad90f",
   "metadata": {},
   "outputs": [],
   "source": [
    "review = f\"\"\"\n",
    "\n",
    "El problema es que solamente tiene 4 velocidades hace falta más potenica y dejó de girar.\n",
    "Se procede a hacer la devolución. El producto es bonito y el control de buena calidad.\n",
    "\"\"\""
   ]
  },
  {
   "cell_type": "code",
   "execution_count": null,
   "id": "de88d3ff-59cd-4870-b425-837012cca6f2",
   "metadata": {},
   "outputs": [],
   "source": [
    "print (review)"
   ]
  },
  {
   "cell_type": "code",
   "execution_count": null,
   "id": "e4e15346-2a6b-455e-ab4b-906799715f8c",
   "metadata": {},
   "outputs": [],
   "source": [
    "rev_prompt =f\"\"\"\n",
    "what is the sentiment of the following product review delimited with triple backticks?\n",
    "Review text: ```{review}```\n",
    "\n",
    "\"\"\"\n",
    "response = get_completion(rev_prompt)\n",
    "\n",
    "print(response)"
   ]
  }
 ],
 "metadata": {
  "kernelspec": {
   "display_name": "Python 3 (ipykernel)",
   "language": "python",
   "name": "python3"
  },
  "language_info": {
   "codemirror_mode": {
    "name": "ipython",
    "version": 3
   },
   "file_extension": ".py",
   "mimetype": "text/x-python",
   "name": "python",
   "nbconvert_exporter": "python",
   "pygments_lexer": "ipython3",
   "version": "3.9.6"
  }
 },
 "nbformat": 4,
 "nbformat_minor": 5
}
